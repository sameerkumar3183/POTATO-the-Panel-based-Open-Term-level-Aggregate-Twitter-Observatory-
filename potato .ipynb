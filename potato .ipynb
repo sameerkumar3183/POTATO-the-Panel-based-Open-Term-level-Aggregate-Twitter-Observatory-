{
 "cells": [
  {
   "cell_type": "markdown",
   "id": "5e35da70",
   "metadata": {},
   "source": [
    "## Overview of the Project:\n",
    "##### POTATO is a prototype that tracks tweets from U.S. voters between 2016 and 2023,\n",
    "##### allowing users to search for specific terms like \"COVID\" and get aggregated information about the people \n",
    "#### who tweeted those terms. The system uses technologies like Docker, Elasticsearch, Streamlit, and Python, \n",
    "#### and the major challenges include data ingestion and quick query results. There’s also a need to ensure user privacy.\n",
    "\n",
    "\n"
   ]
  },
  {
   "cell_type": "code",
   "execution_count": 1,
   "id": "21974c33",
   "metadata": {},
   "outputs": [],
   "source": [
    "\n",
    "import pandas as pd \n",
    "import numpy as np"
   ]
  },
  {
   "cell_type": "code",
   "execution_count": 2,
   "id": "39bfc6bb",
   "metadata": {},
   "outputs": [],
   "source": [
    "tsv_file = 'correct_twitter_201904.tsv'\n",
    "data = pd.read_csv(tsv_file, sep='\\t')"
   ]
  },
  {
   "cell_type": "code",
   "execution_count": 3,
   "id": "2628fd75",
   "metadata": {},
   "outputs": [],
   "source": [
    "df=data\n"
   ]
  },
  {
   "cell_type": "code",
   "execution_count": 4,
   "id": "3c33e49f",
   "metadata": {
    "scrolled": true
   },
   "outputs": [
    {
     "data": {
      "text/plain": [
       "id                                   0\n",
       "event                                0\n",
       "ts1                                  0\n",
       " ts2                                 0\n",
       "from_stream                          0\n",
       "directly_from_stream                 0\n",
       "from_search                          0\n",
       "directly_from_search                 0\n",
       "from_quote_search                    0\n",
       "directly_from_quote_search           0\n",
       "from_convo_search                    0\n",
       "directly_from_convo_search           0\n",
       "from_timeline_search                 0\n",
       "directly_from_timeline_search        0\n",
       "text                                 0\n",
       "lang                                 0\n",
       "author_id                            0\n",
       "author_handle                        0\n",
       "created_at                           0\n",
       "conversation_id                      0\n",
       "possibly_sensitive                   0\n",
       "reply_settings                       0\n",
       "source                               0\n",
       "author_follower_count                0\n",
       "retweet_count                        0\n",
       "reply_count                          0\n",
       "like_count                           0\n",
       "quote_count                          0\n",
       "replied_to                       81362\n",
       "replied_to_author_id             84187\n",
       "replied_to_handle                84353\n",
       "replied_to_follower_count        84187\n",
       "quoted                           85985\n",
       "quoted_author_id                 86261\n",
       "quoted_handle                    86408\n",
       "quoted_follower_count            86261\n",
       "retweeted                        36508\n",
       "retweeted_author_id              36508\n",
       "retweeted_handle                 36508\n",
       "retweeted_follower_count         36508\n",
       "mentioned_author_ids             88037\n",
       "mentioned_handles                88037\n",
       "hashtags                         75875\n",
       "urls                             46396\n",
       "media_keys                       71525\n",
       "place_id                         87016\n",
       "dtype: int64"
      ]
     },
     "execution_count": 4,
     "metadata": {},
     "output_type": "execute_result"
    }
   ],
   "source": [
    "df.isnull().sum()"
   ]
  },
  {
   "cell_type": "code",
   "execution_count": 5,
   "id": "62b9671f",
   "metadata": {
    "collapsed": true
   },
   "outputs": [
    {
     "data": {
      "text/html": [
       "<div>\n",
       "<style scoped>\n",
       "    .dataframe tbody tr th:only-of-type {\n",
       "        vertical-align: middle;\n",
       "    }\n",
       "\n",
       "    .dataframe tbody tr th {\n",
       "        vertical-align: top;\n",
       "    }\n",
       "\n",
       "    .dataframe thead th {\n",
       "        text-align: right;\n",
       "    }\n",
       "</style>\n",
       "<table border=\"1\" class=\"dataframe\">\n",
       "  <thead>\n",
       "    <tr style=\"text-align: right;\">\n",
       "      <th></th>\n",
       "      <th>id</th>\n",
       "      <th>author_id</th>\n",
       "      <th>conversation_id</th>\n",
       "      <th>author_follower_count</th>\n",
       "      <th>retweet_count</th>\n",
       "      <th>reply_count</th>\n",
       "      <th>like_count</th>\n",
       "      <th>quote_count</th>\n",
       "      <th>replied_to</th>\n",
       "      <th>replied_to_author_id</th>\n",
       "      <th>replied_to_follower_count</th>\n",
       "      <th>quoted</th>\n",
       "      <th>quoted_author_id</th>\n",
       "      <th>quoted_follower_count</th>\n",
       "      <th>retweeted</th>\n",
       "      <th>retweeted_author_id</th>\n",
       "      <th>retweeted_follower_count</th>\n",
       "      <th>mentioned_author_ids</th>\n",
       "      <th>mentioned_handles</th>\n",
       "    </tr>\n",
       "  </thead>\n",
       "  <tbody>\n",
       "    <tr>\n",
       "      <th>count</th>\n",
       "      <td>8.803700e+04</td>\n",
       "      <td>8.803700e+04</td>\n",
       "      <td>8.803700e+04</td>\n",
       "      <td>8.803700e+04</td>\n",
       "      <td>88037.000000</td>\n",
       "      <td>88037.000000</td>\n",
       "      <td>8.803700e+04</td>\n",
       "      <td>88037.000000</td>\n",
       "      <td>6.675000e+03</td>\n",
       "      <td>3.850000e+03</td>\n",
       "      <td>3.850000e+03</td>\n",
       "      <td>2.052000e+03</td>\n",
       "      <td>1.776000e+03</td>\n",
       "      <td>1.776000e+03</td>\n",
       "      <td>5.152900e+04</td>\n",
       "      <td>5.152900e+04</td>\n",
       "      <td>5.152900e+04</td>\n",
       "      <td>0.0</td>\n",
       "      <td>0.0</td>\n",
       "    </tr>\n",
       "    <tr>\n",
       "      <th>mean</th>\n",
       "      <td>1.128375e+18</td>\n",
       "      <td>2.840685e+17</td>\n",
       "      <td>1.128223e+18</td>\n",
       "      <td>5.871965e+04</td>\n",
       "      <td>613.836353</td>\n",
       "      <td>8.710633</td>\n",
       "      <td>1.643042e+02</td>\n",
       "      <td>9.802674</td>\n",
       "      <td>1.127070e+18</td>\n",
       "      <td>2.636418e+17</td>\n",
       "      <td>1.018013e+06</td>\n",
       "      <td>1.124363e+18</td>\n",
       "      <td>1.489432e+17</td>\n",
       "      <td>2.149497e+06</td>\n",
       "      <td>1.123201e+18</td>\n",
       "      <td>2.561212e+17</td>\n",
       "      <td>1.589441e+06</td>\n",
       "      <td>NaN</td>\n",
       "      <td>NaN</td>\n",
       "    </tr>\n",
       "    <tr>\n",
       "      <th>std</th>\n",
       "      <td>3.001479e+15</td>\n",
       "      <td>4.376297e+17</td>\n",
       "      <td>7.439132e+15</td>\n",
       "      <td>1.200196e+06</td>\n",
       "      <td>4047.938227</td>\n",
       "      <td>382.716992</td>\n",
       "      <td>8.811544e+03</td>\n",
       "      <td>470.460294</td>\n",
       "      <td>2.286399e+16</td>\n",
       "      <td>4.301651e+17</td>\n",
       "      <td>6.457768e+06</td>\n",
       "      <td>4.342901e+16</td>\n",
       "      <td>3.496499e+17</td>\n",
       "      <td>8.885742e+06</td>\n",
       "      <td>6.133647e+16</td>\n",
       "      <td>4.351598e+17</td>\n",
       "      <td>5.231865e+06</td>\n",
       "      <td>NaN</td>\n",
       "      <td>NaN</td>\n",
       "    </tr>\n",
       "    <tr>\n",
       "      <th>min</th>\n",
       "      <td>1.101535e+18</td>\n",
       "      <td>1.357300e+04</td>\n",
       "      <td>1.597973e+17</td>\n",
       "      <td>0.000000e+00</td>\n",
       "      <td>0.000000</td>\n",
       "      <td>0.000000</td>\n",
       "      <td>0.000000e+00</td>\n",
       "      <td>0.000000</td>\n",
       "      <td>1.597973e+17</td>\n",
       "      <td>6.616130e+05</td>\n",
       "      <td>0.000000e+00</td>\n",
       "      <td>3.576774e+16</td>\n",
       "      <td>7.592510e+05</td>\n",
       "      <td>9.000000e+00</td>\n",
       "      <td>1.572632e+09</td>\n",
       "      <td>8.943000e+03</td>\n",
       "      <td>0.000000e+00</td>\n",
       "      <td>NaN</td>\n",
       "      <td>NaN</td>\n",
       "    </tr>\n",
       "    <tr>\n",
       "      <th>25%</th>\n",
       "      <td>1.126285e+18</td>\n",
       "      <td>2.148085e+08</td>\n",
       "      <td>1.126257e+18</td>\n",
       "      <td>2.140000e+02</td>\n",
       "      <td>0.000000</td>\n",
       "      <td>0.000000</td>\n",
       "      <td>0.000000e+00</td>\n",
       "      <td>0.000000</td>\n",
       "      <td>1.125241e+18</td>\n",
       "      <td>7.296255e+07</td>\n",
       "      <td>5.170000e+02</td>\n",
       "      <td>1.126942e+18</td>\n",
       "      <td>2.725816e+07</td>\n",
       "      <td>7.012000e+03</td>\n",
       "      <td>1.126080e+18</td>\n",
       "      <td>2.265021e+07</td>\n",
       "      <td>5.042000e+03</td>\n",
       "      <td>NaN</td>\n",
       "      <td>NaN</td>\n",
       "    </tr>\n",
       "    <tr>\n",
       "      <th>50%</th>\n",
       "      <td>1.128714e+18</td>\n",
       "      <td>1.635683e+09</td>\n",
       "      <td>1.128709e+18</td>\n",
       "      <td>5.950000e+02</td>\n",
       "      <td>20.000000</td>\n",
       "      <td>0.000000</td>\n",
       "      <td>0.000000e+00</td>\n",
       "      <td>0.000000</td>\n",
       "      <td>1.128014e+18</td>\n",
       "      <td>6.361114e+08</td>\n",
       "      <td>2.780000e+03</td>\n",
       "      <td>1.127323e+18</td>\n",
       "      <td>3.724831e+08</td>\n",
       "      <td>1.060500e+04</td>\n",
       "      <td>1.128478e+18</td>\n",
       "      <td>4.786582e+08</td>\n",
       "      <td>2.276000e+04</td>\n",
       "      <td>NaN</td>\n",
       "      <td>NaN</td>\n",
       "    </tr>\n",
       "    <tr>\n",
       "      <th>75%</th>\n",
       "      <td>1.130296e+18</td>\n",
       "      <td>7.860916e+17</td>\n",
       "      <td>1.130281e+18</td>\n",
       "      <td>1.761000e+03</td>\n",
       "      <td>286.000000</td>\n",
       "      <td>0.000000</td>\n",
       "      <td>0.000000e+00</td>\n",
       "      <td>0.000000</td>\n",
       "      <td>1.130909e+18</td>\n",
       "      <td>7.616023e+17</td>\n",
       "      <td>2.627000e+04</td>\n",
       "      <td>1.128954e+18</td>\n",
       "      <td>9.328426e+08</td>\n",
       "      <td>5.033700e+05</td>\n",
       "      <td>1.129886e+18</td>\n",
       "      <td>7.339592e+17</td>\n",
       "      <td>8.797590e+05</td>\n",
       "      <td>NaN</td>\n",
       "      <td>NaN</td>\n",
       "    </tr>\n",
       "    <tr>\n",
       "      <th>max</th>\n",
       "      <td>1.134308e+18</td>\n",
       "      <td>1.134151e+18</td>\n",
       "      <td>1.134308e+18</td>\n",
       "      <td>1.143075e+08</td>\n",
       "      <td>415500.000000</td>\n",
       "      <td>81701.000000</td>\n",
       "      <td>1.368193e+06</td>\n",
       "      <td>76727.000000</td>\n",
       "      <td>1.134301e+18</td>\n",
       "      <td>1.132513e+18</td>\n",
       "      <td>1.143075e+08</td>\n",
       "      <td>1.134308e+18</td>\n",
       "      <td>1.130235e+18</td>\n",
       "      <td>1.143074e+08</td>\n",
       "      <td>1.134304e+18</td>\n",
       "      <td>1.133221e+18</td>\n",
       "      <td>7.141746e+07</td>\n",
       "      <td>NaN</td>\n",
       "      <td>NaN</td>\n",
       "    </tr>\n",
       "  </tbody>\n",
       "</table>\n",
       "</div>"
      ],
      "text/plain": [
       "                 id     author_id  conversation_id  author_follower_count  \\\n",
       "count  8.803700e+04  8.803700e+04     8.803700e+04           8.803700e+04   \n",
       "mean   1.128375e+18  2.840685e+17     1.128223e+18           5.871965e+04   \n",
       "std    3.001479e+15  4.376297e+17     7.439132e+15           1.200196e+06   \n",
       "min    1.101535e+18  1.357300e+04     1.597973e+17           0.000000e+00   \n",
       "25%    1.126285e+18  2.148085e+08     1.126257e+18           2.140000e+02   \n",
       "50%    1.128714e+18  1.635683e+09     1.128709e+18           5.950000e+02   \n",
       "75%    1.130296e+18  7.860916e+17     1.130281e+18           1.761000e+03   \n",
       "max    1.134308e+18  1.134151e+18     1.134308e+18           1.143075e+08   \n",
       "\n",
       "       retweet_count   reply_count    like_count   quote_count    replied_to  \\\n",
       "count   88037.000000  88037.000000  8.803700e+04  88037.000000  6.675000e+03   \n",
       "mean      613.836353      8.710633  1.643042e+02      9.802674  1.127070e+18   \n",
       "std      4047.938227    382.716992  8.811544e+03    470.460294  2.286399e+16   \n",
       "min         0.000000      0.000000  0.000000e+00      0.000000  1.597973e+17   \n",
       "25%         0.000000      0.000000  0.000000e+00      0.000000  1.125241e+18   \n",
       "50%        20.000000      0.000000  0.000000e+00      0.000000  1.128014e+18   \n",
       "75%       286.000000      0.000000  0.000000e+00      0.000000  1.130909e+18   \n",
       "max    415500.000000  81701.000000  1.368193e+06  76727.000000  1.134301e+18   \n",
       "\n",
       "       replied_to_author_id  replied_to_follower_count        quoted  \\\n",
       "count          3.850000e+03               3.850000e+03  2.052000e+03   \n",
       "mean           2.636418e+17               1.018013e+06  1.124363e+18   \n",
       "std            4.301651e+17               6.457768e+06  4.342901e+16   \n",
       "min            6.616130e+05               0.000000e+00  3.576774e+16   \n",
       "25%            7.296255e+07               5.170000e+02  1.126942e+18   \n",
       "50%            6.361114e+08               2.780000e+03  1.127323e+18   \n",
       "75%            7.616023e+17               2.627000e+04  1.128954e+18   \n",
       "max            1.132513e+18               1.143075e+08  1.134308e+18   \n",
       "\n",
       "       quoted_author_id  quoted_follower_count     retweeted  \\\n",
       "count      1.776000e+03           1.776000e+03  5.152900e+04   \n",
       "mean       1.489432e+17           2.149497e+06  1.123201e+18   \n",
       "std        3.496499e+17           8.885742e+06  6.133647e+16   \n",
       "min        7.592510e+05           9.000000e+00  1.572632e+09   \n",
       "25%        2.725816e+07           7.012000e+03  1.126080e+18   \n",
       "50%        3.724831e+08           1.060500e+04  1.128478e+18   \n",
       "75%        9.328426e+08           5.033700e+05  1.129886e+18   \n",
       "max        1.130235e+18           1.143074e+08  1.134304e+18   \n",
       "\n",
       "       retweeted_author_id  retweeted_follower_count  mentioned_author_ids  \\\n",
       "count         5.152900e+04              5.152900e+04                   0.0   \n",
       "mean          2.561212e+17              1.589441e+06                   NaN   \n",
       "std           4.351598e+17              5.231865e+06                   NaN   \n",
       "min           8.943000e+03              0.000000e+00                   NaN   \n",
       "25%           2.265021e+07              5.042000e+03                   NaN   \n",
       "50%           4.786582e+08              2.276000e+04                   NaN   \n",
       "75%           7.339592e+17              8.797590e+05                   NaN   \n",
       "max           1.133221e+18              7.141746e+07                   NaN   \n",
       "\n",
       "       mentioned_handles  \n",
       "count                0.0  \n",
       "mean                 NaN  \n",
       "std                  NaN  \n",
       "min                  NaN  \n",
       "25%                  NaN  \n",
       "50%                  NaN  \n",
       "75%                  NaN  \n",
       "max                  NaN  "
      ]
     },
     "execution_count": 5,
     "metadata": {},
     "output_type": "execute_result"
    }
   ],
   "source": [
    "df.describe()"
   ]
  },
  {
   "cell_type": "code",
   "execution_count": 6,
   "id": "72e6fd40",
   "metadata": {},
   "outputs": [],
   "source": [
    "### Drop columns with too many missing values (optional)\n",
    "\n",
    "df_clean = df.drop(columns=['replied_to', 'replied_to_author_id', 'quoted', 'quoted_author_id',\n",
    "                            'retweeted', 'retweeted_author_id', 'mentioned_author_ids', 'mentioned_handles'])\n"
   ]
  },
  {
   "cell_type": "code",
   "execution_count": 7,
   "id": "bf4be47d",
   "metadata": {},
   "outputs": [],
   "source": [
    "# Fill missing values for numerical columns (if appropriate)\n",
    "df_clean['hashtags'] = df_clean['hashtags'].fillna('')\n",
    "df_clean['urls'] = df_clean['urls'].fillna('')\n",
    "df_clean['media_keys'] = df_clean['media_keys'].fillna('')\n"
   ]
  },
  {
   "cell_type": "code",
   "execution_count": 8,
   "id": "49d01873",
   "metadata": {},
   "outputs": [],
   "source": [
    "# Drop rows where essential fields are missing\n",
    "df_clean = df_clean.dropna(subset=['text', 'author_id', 'created_at'])"
   ]
  },
  {
   "cell_type": "code",
   "execution_count": 9,
   "id": "471271fc",
   "metadata": {},
   "outputs": [],
   "source": [
    "# Convert the 'created_at' column to datetime with UTC handling\n",
    "df_clean['created_at'] = pd.to_datetime(df_clean['created_at'], utc=True)"
   ]
  },
  {
   "cell_type": "code",
   "execution_count": 10,
   "id": "377a2007",
   "metadata": {},
   "outputs": [],
   "source": [
    "# Step 1: Convert 'created_at' to datetime with timezone handling (UTC)\n",
    "df_clean['created_at'] = pd.to_datetime(df_clean['created_at'], utc=True)\n",
    "\n",
    "# Step 2: Extract useful components (date, hour) from 'created_at'\n",
    "df_clean['date'] = df_clean['created_at'].dt.date\n",
    "df_clean['hour'] = df_clean['created_at'].dt.hour"
   ]
  },
  {
   "cell_type": "markdown",
   "id": "b7f04dfa",
   "metadata": {},
   "source": [
    "## Lowercase all text for consistent querying.\n",
    "## Remove URLs and other unnecessary characters."
   ]
  },
  {
   "cell_type": "code",
   "execution_count": 11,
   "id": "b85d7e3a",
   "metadata": {},
   "outputs": [],
   "source": [
    "## import the regular expression (regex) module, which provides support for working with regular expressions.\n",
    "import re \n",
    "\n",
    "# Function to clean tweet text\n",
    "def clean_text(text):\n",
    "    text = text.lower()  # Lowercase all text\n",
    "    text = re.sub(r'http\\S+', '', text)  # Remove URLs\n",
    "    text = re.sub(r'[^a-zA-Z0-9\\s]', '', text)  # Remove special characters\n",
    "    return text\n",
    "\n",
    "# Apply cleaning to the 'text' column\n",
    "df_clean['cleaned_text'] = df_clean['text'].apply(clean_text)"
   ]
  },
  {
   "cell_type": "code",
   "execution_count": 12,
   "id": "2e5ec21d",
   "metadata": {},
   "outputs": [],
   "source": [
    "# Remove duplicate tweets\n",
    "df_clean = df_clean.drop_duplicates(subset=['author_id', 'text', 'created_at'])"
   ]
  },
  {
   "cell_type": "code",
   "execution_count": 13,
   "id": "c0f6348a",
   "metadata": {},
   "outputs": [
    {
     "name": "stdout",
     "output_type": "stream",
     "text": [
      "date\n",
      "2019-03-01       1\n",
      "2019-03-02       2\n",
      "2019-03-03       3\n",
      "2019-03-04       1\n",
      "2019-03-05       3\n",
      "              ... \n",
      "2019-05-27    1025\n",
      "2019-05-28    1695\n",
      "2019-05-29    2026\n",
      "2019-05-30    2077\n",
      "2019-05-31     417\n",
      "Name: text, Length: 83, dtype: int64\n"
     ]
    }
   ],
   "source": [
    "##Number of tweets per day\n",
    "\n",
    "tweets_per_day = df_clean.groupby('date')['text'].count()\n",
    "print(tweets_per_day)"
   ]
  },
  {
   "cell_type": "code",
   "execution_count": 14,
   "id": "9ecee067",
   "metadata": {},
   "outputs": [
    {
     "name": "stdout",
     "output_type": "stream",
     "text": [
      "date\n",
      "2019-03-01       1\n",
      "2019-03-02       2\n",
      "2019-03-03       3\n",
      "2019-03-04       1\n",
      "2019-03-05       3\n",
      "              ... \n",
      "2019-05-27     915\n",
      "2019-05-28    1445\n",
      "2019-05-29    1740\n",
      "2019-05-30    1651\n",
      "2019-05-31     376\n",
      "Name: author_id, Length: 83, dtype: int64\n"
     ]
    }
   ],
   "source": [
    "##count the number of unique author_id.\n",
    "unique_users_per_day = df_clean.groupby('date')['author_id'].nunique()\n",
    "print(unique_users_per_day)"
   ]
  },
  {
   "cell_type": "code",
   "execution_count": 15,
   "id": "7743783c",
   "metadata": {},
   "outputs": [
    {
     "name": "stdout",
     "output_type": "stream",
     "text": [
      "Average likes for tweets containing \"music\": 161.40853048983672\n"
     ]
    }
   ],
   "source": [
    "##Filter by tweets containing a specific term and calculate the average like_count.  \n",
    "\n",
    "search_term = 'music'\n",
    "filtered_data = df_clean[df_clean['cleaned_text'].str.contains(search_term)]\n",
    "average_likes = filtered_data['like_count'].mean()\n",
    "print(f'Average likes for tweets containing \"{search_term}\": {average_likes}')"
   ]
  },
  {
   "cell_type": "code",
   "execution_count": 16,
   "id": "cb6f3171",
   "metadata": {},
   "outputs": [],
   "source": [
    "## User with the most tweets containing a specific term:\n",
    "##Find the user who tweeted the most about a given term."
   ]
  },
  {
   "cell_type": "code",
   "execution_count": 17,
   "id": "877fbbe9",
   "metadata": {},
   "outputs": [
    {
     "name": "stdout",
     "output_type": "stream",
     "text": [
      "User with the most tweets containing \"music\": 118301422\n"
     ]
    }
   ],
   "source": [
    "top_user = filtered_data.groupby('author_id')['text'].count().idxmax()\n",
    "print(f'User with the most tweets containing \"{search_term}\": {top_user}')"
   ]
  },
  {
   "cell_type": "code",
   "execution_count": 18,
   "id": "2be03fef",
   "metadata": {},
   "outputs": [
    {
     "name": "stdout",
     "output_type": "stream",
     "text": [
      "hour\n",
      "0     4243\n",
      "1     3961\n",
      "2     3826\n",
      "3     3653\n",
      "4     3102\n",
      "5     2708\n",
      "6     2246\n",
      "7     2162\n",
      "8     2049\n",
      "9     1980\n",
      "10    2030\n",
      "11    2251\n",
      "12    2777\n",
      "13    3490\n",
      "14    4102\n",
      "15    4297\n",
      "16    4616\n",
      "17    5000\n",
      "18    5203\n",
      "19    4877\n",
      "20    5574\n",
      "21    5213\n",
      "22    4468\n",
      "23    4209\n",
      "Name: text, dtype: int64\n"
     ]
    }
   ],
   "source": [
    "## Group by hour to see the distribution of tweets posted at different times of the day\n",
    "tweets_by_hour = df_clean.groupby('hour')['text'].count()\n",
    "print(tweets_by_hour)\n"
   ]
  },
  {
   "cell_type": "code",
   "execution_count": null,
   "id": "30e2ef83",
   "metadata": {},
   "outputs": [
    {
     "name": "stdout",
     "output_type": "stream",
     "text": [
      " * Serving Flask app '__main__'\n",
      " * Debug mode: off\n"
     ]
    },
    {
     "name": "stderr",
     "output_type": "stream",
     "text": [
      "WARNING: This is a development server. Do not use it in a production deployment. Use a production WSGI server instead.\n",
      " * Running on http://127.0.0.1:5000\n",
      "Press CTRL+C to quit\n"
     ]
    }
   ],
   "source": [
    "from flask import Flask\n",
    "\n",
    "app = Flask(__name__)\n",
    "\n",
    "@app.route('/')\n",
    "def home():\n",
    "    return \"Hello, Flask is running in Jupyter!\"\n",
    "\n",
    "if __name__ == '__main__':\n",
    "    app.run(host='127.0.0.1', port=5000, debug=False, use_reloader=False)"
   ]
  },
  {
   "cell_type": "code",
   "execution_count": null,
   "id": "50774b6f",
   "metadata": {},
   "outputs": [],
   "source": []
  }
 ],
 "metadata": {
  "kernelspec": {
   "display_name": "Python 3 (ipykernel)",
   "language": "python",
   "name": "python3"
  },
  "language_info": {
   "codemirror_mode": {
    "name": "ipython",
    "version": 3
   },
   "file_extension": ".py",
   "mimetype": "text/x-python",
   "name": "python",
   "nbconvert_exporter": "python",
   "pygments_lexer": "ipython3",
   "version": "3.11.5"
  }
 },
 "nbformat": 4,
 "nbformat_minor": 5
}
